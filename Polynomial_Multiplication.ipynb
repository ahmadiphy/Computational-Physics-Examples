{
 "cells": [
  {
   "cell_type": "markdown",
   "metadata": {},
   "source": [
    "\n",
    "Problem_3\n",
    "<br>\n",
    "Polynomial Multiplication\n",
    "<br>\n",
    "$(a_{n}x^{n}+a_{n-1}x^{n-1}+...+a_{0}) \\times (b_{m}x^{m}+b_{m-1}x^{m-1}+...+b_{0})=?$"
   ]
  },
  {
   "cell_type": "code",
   "execution_count": 1,
   "metadata": {},
   "outputs": [],
   "source": [
    "from IPython.display import display, Math, Latex"
   ]
  },
  {
   "cell_type": "code",
   "execution_count": 2,
   "metadata": {},
   "outputs": [],
   "source": [
    "def get_Polynomial():\n",
    "    coefficients=[]\n",
    "    powers=[]\n",
    "    ch=True\n",
    "    while ch:\n",
    "        c_i=float(input(\"Enter i_th coefficient :\"))\n",
    "        coefficients.append(c_i)\n",
    "        p_i=float(input(\"Enter n_th power :\"))\n",
    "        powers.append(p_i)\n",
    "        check=str(input(\"Do you want to continue? (n=No/any other key=yes):\"))\n",
    "        if check=='n':\n",
    "            ch=False\n",
    "    return [coefficients,powers]"
   ]
  },
  {
   "cell_type": "code",
   "execution_count": 6,
   "metadata": {},
   "outputs": [],
   "source": [
    "def formal_f(x):\n",
    "    if int(x)==x:\n",
    "        x=int(x)\n",
    "    return x"
   ]
  },
  {
   "cell_type": "code",
   "execution_count": 3,
   "metadata": {},
   "outputs": [],
   "source": [
    "def print_Polynomial(co_po):\n",
    "    result=\"\"\n",
    "    for i in range(len(co_po[0])):\n",
    "        if abs(co_po[0][i])!=1:\n",
    "            if co_po[1][i]>1:\n",
    "                result=result+'{}x^{}'.format(formal_f(co_po[0][i]),formal_f(co_po[1][i]))\n",
    "            elif co_po[1][i]==1:\n",
    "                result=result+'{}x'.format(formal_f(co_po[0][i]))\n",
    "            else:\n",
    "                result=result+'{}'.format(formal_f(co_po[0][i]))\n",
    "        else:\n",
    "            if co_po[0][i]>0:\n",
    "                if co_po[1][i]>1:\n",
    "                    result=result+'x^{}'.format(formal_f(co_po[1][i]))\n",
    "                elif co_po[1][i]==1:\n",
    "                    result=result+'x'\n",
    "                else:\n",
    "                    result=result+'{}'.format(formal_f(co_po[0][i]))\n",
    "            else:\n",
    "                if co_po[1][i]>1:\n",
    "                    result=result+'-x^{}'.format(formal_f(co_po[1][i]))\n",
    "                elif co_po[1][i]==1:\n",
    "                    result=result+'-x'\n",
    "                else:\n",
    "                    result=result+'{}'.format(formal_f(co_po[0][i]))\n",
    "        if i<len(co_po[0])-1:\n",
    "            if co_po[0][i+1]>0:\n",
    "                result=result+\"+\"\n",
    "    return result"
   ]
  },
  {
   "cell_type": "code",
   "execution_count": 4,
   "metadata": {},
   "outputs": [],
   "source": [
    "def show_Formal(allE):\n",
    "    display(Math(allE))"
   ]
  },
  {
   "cell_type": "code",
   "execution_count": 13,
   "metadata": {},
   "outputs": [],
   "source": [
    "def Polynomial_M(a,b):\n",
    "    nc=[]\n",
    "    np=[]\n",
    "    for i in range(len(a[0])):\n",
    "        for j in range(len(b[0])):\n",
    "            nc.append(a[0][i]*b[0][j])\n",
    "            np.append(a[1][i]+b[1][j])\n",
    "    return [nc,np]"
   ]
  },
  {
   "cell_type": "code",
   "execution_count": 14,
   "metadata": {},
   "outputs": [],
   "source": [
    "def simplify_P(a):\n",
    "    poly=a\n",
    "    l=len(poly[0])\n",
    "    i=0\n",
    "    while i<l:\n",
    "        j=i+1\n",
    "        while j<l:\n",
    "            if poly[1][i]==poly[1][j]:\n",
    "                poly[0][i]+=poly[0][j]\n",
    "                poly[0].pop(j)\n",
    "                poly[1].pop(j)\n",
    "                l-=1\n",
    "                j-=1\n",
    "            j+=1\n",
    "        i+=1\n",
    "    return poly"
   ]
  },
  {
   "cell_type": "code",
   "execution_count": 15,
   "metadata": {},
   "outputs": [],
   "source": [
    "def delet_z(a):\n",
    "    poly=a\n",
    "    l=len(poly[0])\n",
    "    i=0\n",
    "    while i<l:\n",
    "        if a[0][i]==0:\n",
    "            a[0].pop(i)\n",
    "            a[1].pop(i)\n",
    "            i-=1\n",
    "            l-=1\n",
    "        i+=1\n",
    "    return poly"
   ]
  },
  {
   "cell_type": "code",
   "execution_count": 16,
   "metadata": {},
   "outputs": [],
   "source": [
    "def sort_P(poly):\n",
    "    c_p=[]\n",
    "    p_p=[]\n",
    "    l=len(poly[0])\n",
    "    for i in range(l):\n",
    "        x=poly[0][0]\n",
    "        y=poly[1][0]\n",
    "        index=0\n",
    "        for j in range(len(poly[0])):\n",
    "            if y<poly[1][j]:\n",
    "                x=poly[0][j]\n",
    "                y=poly[1][j]\n",
    "                index=j\n",
    "        c_p.append(x)\n",
    "        p_p.append(y)\n",
    "        poly[0].pop(index)\n",
    "        poly[1].pop(index)\n",
    "    return [c_p,p_p]"
   ]
  },
  {
   "cell_type": "code",
   "execution_count": 17,
   "metadata": {},
   "outputs": [],
   "source": [
    "def full_simplify(poly):\n",
    "    new=delet_z(poly)\n",
    "    newp=simplify_P(new)\n",
    "    newpp=delet_z(newp)\n",
    "    return sort_P(newpp)"
   ]
  },
  {
   "cell_type": "code",
   "execution_count": 24,
   "metadata": {},
   "outputs": [],
   "source": [
    "def mp(a,b):\n",
    "    na=full_simplify(a)\n",
    "    nb=full_simplify(b)\n",
    "    show_Formal(\"(\"+print_Polynomial(na)+\")\"+\" \\\\times \"+\"(\"+print_Polynomial(nb)+\")\")\n",
    "    resultP=Polynomial_M(na,nb)\n",
    "    result=full_simplify(resultP)\n",
    "    show_Formal(\"=\"+print_Polynomial(result))\n",
    "    return result"
   ]
  },
  {
   "cell_type": "code",
   "execution_count": 27,
   "metadata": {},
   "outputs": [],
   "source": [
    "a=[[3, 4,], [2, 1]]\n",
    "b=[[2,-5, 1], [3.0, 1,0]]"
   ]
  },
  {
   "cell_type": "code",
   "execution_count": 28,
   "metadata": {},
   "outputs": [
    {
     "data": {
      "text/latex": [
       "$$(3x^2+4x) \\times (2x^3-5x+1)$$"
      ],
      "text/plain": [
       "<IPython.core.display.Math object>"
      ]
     },
     "metadata": {},
     "output_type": "display_data"
    },
    {
     "data": {
      "text/latex": [
       "$$=6x^5+8x^4-15x^3-17x^2+4x$$"
      ],
      "text/plain": [
       "<IPython.core.display.Math object>"
      ]
     },
     "metadata": {},
     "output_type": "display_data"
    }
   ],
   "source": [
    "ans=mp(a,b)"
   ]
  },
  {
   "cell_type": "code",
   "execution_count": null,
   "metadata": {},
   "outputs": [],
   "source": []
  }
 ],
 "metadata": {
  "kernelspec": {
   "display_name": "Python 3",
   "language": "python",
   "name": "python3"
  },
  "language_info": {
   "codemirror_mode": {
    "name": "ipython",
    "version": 3
   },
   "file_extension": ".py",
   "mimetype": "text/x-python",
   "name": "python",
   "nbconvert_exporter": "python",
   "pygments_lexer": "ipython3",
   "version": "3.6.7"
  }
 },
 "nbformat": 4,
 "nbformat_minor": 2
}
